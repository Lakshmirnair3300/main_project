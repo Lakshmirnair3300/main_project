{
 "cells": [
  {
   "cell_type": "code",
   "execution_count": 1,
   "id": "88d752c0-ae78-43bf-86f0-8266c7722594",
   "metadata": {},
   "outputs": [
    {
     "name": "stdout",
     "output_type": "stream",
     "text": [
      "Requirement already satisfied: tensorflow in c:\\users\\lakshmi\\anaconda3\\lib\\site-packages (2.12.0)\n",
      "Collecting tensorflow\n",
      "  Using cached tensorflow-2.13.0-cp39-cp39-win_amd64.whl (1.9 kB)\n",
      "Note: you may need to restart the kernel to use updated packages.\n"
     ]
    },
    {
     "name": "stderr",
     "output_type": "stream",
     "text": [
      "WARNING: Ignoring invalid distribution -eras (c:\\users\\lakshmi\\appdata\\roaming\\python\\python39\\site-packages)\n",
      "WARNING: Ignoring invalid distribution -ensorflow-intel (c:\\users\\lakshmi\\appdata\\roaming\\python\\python39\\site-packages)\n",
      "WARNING: Ignoring invalid distribution -pencv-python (c:\\users\\lakshmi\\anaconda3\\lib\\site-packages)\n",
      "WARNING: Ignoring invalid distribution -eras (c:\\users\\lakshmi\\appdata\\roaming\\python\\python39\\site-packages)\n",
      "WARNING: Ignoring invalid distribution -ensorflow-intel (c:\\users\\lakshmi\\appdata\\roaming\\python\\python39\\site-packages)\n",
      "WARNING: Ignoring invalid distribution -pencv-python (c:\\users\\lakshmi\\anaconda3\\lib\\site-packages)\n",
      "ERROR: Could not find a version that satisfies the requirement import (from versions: none)\n",
      "ERROR: No matching distribution found for import\n",
      "WARNING: Ignoring invalid distribution -eras (c:\\users\\lakshmi\\appdata\\roaming\\python\\python39\\site-packages)\n",
      "WARNING: Ignoring invalid distribution -ensorflow-intel (c:\\users\\lakshmi\\appdata\\roaming\\python\\python39\\site-packages)\n",
      "WARNING: Ignoring invalid distribution -pencv-python (c:\\users\\lakshmi\\anaconda3\\lib\\site-packages)\n",
      "WARNING: Ignoring invalid distribution -eras (c:\\users\\lakshmi\\appdata\\roaming\\python\\python39\\site-packages)\n",
      "WARNING: Ignoring invalid distribution -ensorflow-intel (c:\\users\\lakshmi\\appdata\\roaming\\python\\python39\\site-packages)\n",
      "WARNING: Ignoring invalid distribution -pencv-python (c:\\users\\lakshmi\\anaconda3\\lib\\site-packages)\n",
      "WARNING: Ignoring invalid distribution -eras (c:\\users\\lakshmi\\appdata\\roaming\\python\\python39\\site-packages)\n",
      "WARNING: Ignoring invalid distribution -ensorflow-intel (c:\\users\\lakshmi\\appdata\\roaming\\python\\python39\\site-packages)\n",
      "WARNING: Ignoring invalid distribution -pencv-python (c:\\users\\lakshmi\\anaconda3\\lib\\site-packages)\n"
     ]
    }
   ],
   "source": [
    "pip install --upgrade tensorflow import os"
   ]
  },
  {
   "cell_type": "code",
   "execution_count": 2,
   "id": "d98c3119-54a4-4506-94b9-b4a1b8f2e69b",
   "metadata": {},
   "outputs": [
    {
     "name": "stdout",
     "output_type": "stream",
     "text": [
      "Requirement already satisfied: tqdm in c:\\users\\lakshmi\\anaconda3\\lib\\site-packages (4.62.3)\n",
      "Requirement already satisfied: colorama in c:\\users\\lakshmi\\appdata\\roaming\\python\\python39\\site-packages (from tqdm) (0.4.4)\n",
      "Note: you may need to restart the kernel to use updated packages.\n"
     ]
    },
    {
     "name": "stderr",
     "output_type": "stream",
     "text": [
      "WARNING: Ignoring invalid distribution -eras (c:\\users\\lakshmi\\appdata\\roaming\\python\\python39\\site-packages)\n",
      "WARNING: Ignoring invalid distribution -ensorflow-intel (c:\\users\\lakshmi\\appdata\\roaming\\python\\python39\\site-packages)\n",
      "WARNING: Ignoring invalid distribution -pencv-python (c:\\users\\lakshmi\\anaconda3\\lib\\site-packages)\n",
      "WARNING: Ignoring invalid distribution -eras (c:\\users\\lakshmi\\appdata\\roaming\\python\\python39\\site-packages)\n",
      "WARNING: Ignoring invalid distribution -ensorflow-intel (c:\\users\\lakshmi\\appdata\\roaming\\python\\python39\\site-packages)\n",
      "WARNING: Ignoring invalid distribution -pencv-python (c:\\users\\lakshmi\\anaconda3\\lib\\site-packages)\n",
      "WARNING: Ignoring invalid distribution -eras (c:\\users\\lakshmi\\appdata\\roaming\\python\\python39\\site-packages)\n",
      "WARNING: Ignoring invalid distribution -ensorflow-intel (c:\\users\\lakshmi\\appdata\\roaming\\python\\python39\\site-packages)\n",
      "WARNING: Ignoring invalid distribution -pencv-python (c:\\users\\lakshmi\\anaconda3\\lib\\site-packages)\n",
      "WARNING: Ignoring invalid distribution -eras (c:\\users\\lakshmi\\appdata\\roaming\\python\\python39\\site-packages)\n",
      "WARNING: Ignoring invalid distribution -ensorflow-intel (c:\\users\\lakshmi\\appdata\\roaming\\python\\python39\\site-packages)\n",
      "WARNING: Ignoring invalid distribution -pencv-python (c:\\users\\lakshmi\\anaconda3\\lib\\site-packages)\n",
      "WARNING: Ignoring invalid distribution -eras (c:\\users\\lakshmi\\appdata\\roaming\\python\\python39\\site-packages)\n",
      "WARNING: Ignoring invalid distribution -ensorflow-intel (c:\\users\\lakshmi\\appdata\\roaming\\python\\python39\\site-packages)\n",
      "WARNING: Ignoring invalid distribution -pencv-python (c:\\users\\lakshmi\\anaconda3\\lib\\site-packages)\n",
      "WARNING: Ignoring invalid distribution -eras (c:\\users\\lakshmi\\appdata\\roaming\\python\\python39\\site-packages)\n",
      "WARNING: Ignoring invalid distribution -ensorflow-intel (c:\\users\\lakshmi\\appdata\\roaming\\python\\python39\\site-packages)\n",
      "WARNING: Ignoring invalid distribution -pencv-python (c:\\users\\lakshmi\\anaconda3\\lib\\site-packages)\n"
     ]
    }
   ],
   "source": [
    "pip install tqdm"
   ]
  },
  {
   "cell_type": "code",
   "execution_count": 3,
   "id": "0fb25eb7-5a2a-455e-8b4c-bc1fa0962c84",
   "metadata": {},
   "outputs": [
    {
     "name": "stdout",
     "output_type": "stream",
     "text": [
      "Requirement already satisfied: librosa in c:\\users\\lakshmi\\anaconda3\\lib\\site-packages (0.10.0.post2)\n",
      "Requirement already satisfied: soundfile in c:\\users\\lakshmi\\anaconda3\\lib\\site-packages (0.12.1)\n",
      "Requirement already satisfied: audioread>=2.1.9 in c:\\users\\lakshmi\\anaconda3\\lib\\site-packages (from librosa) (3.0.0)\n",
      "Requirement already satisfied: pooch<1.7,>=1.0 in c:\\users\\lakshmi\\anaconda3\\lib\\site-packages (from librosa) (1.6.0)\n",
      "Requirement already satisfied: msgpack>=1.0 in c:\\users\\lakshmi\\anaconda3\\lib\\site-packages (from librosa) (1.0.2)\n",
      "Requirement already satisfied: numpy!=1.22.0,!=1.22.1,!=1.22.2,>=1.20.3 in c:\\users\\lakshmi\\anaconda3\\lib\\site-packages (from librosa) (1.24.3)\n",
      "Requirement already satisfied: decorator>=4.3.0 in c:\\users\\lakshmi\\anaconda3\\lib\\site-packages (from librosa) (5.1.0)\n",
      "Requirement already satisfied: scikit-learn>=0.20.0 in c:\\users\\lakshmi\\anaconda3\\lib\\site-packages (from librosa) (0.24.2)\n",
      "Requirement already satisfied: numba>=0.51.0 in c:\\users\\lakshmi\\appdata\\roaming\\python\\python39\\site-packages (from librosa) (0.57.1)\n",
      "Requirement already satisfied: soxr>=0.3.2 in c:\\users\\lakshmi\\anaconda3\\lib\\site-packages (from librosa) (0.3.5)\n",
      "Requirement already satisfied: joblib>=0.14 in c:\\users\\lakshmi\\anaconda3\\lib\\site-packages (from librosa) (1.1.0)\n",
      "Requirement already satisfied: typing-extensions>=4.1.1 in c:\\users\\lakshmi\\appdata\\roaming\\python\\python39\\site-packages (from librosa) (4.5.0)\n",
      "Requirement already satisfied: lazy-loader>=0.1 in c:\\users\\lakshmi\\anaconda3\\lib\\site-packages (from librosa) (0.3)\n",
      "Requirement already satisfied: scipy>=1.2.0 in c:\\users\\lakshmi\\appdata\\roaming\\python\\python39\\site-packages (from librosa) (1.10.1)\n",
      "Requirement already satisfied: cffi>=1.0 in c:\\users\\lakshmi\\anaconda3\\lib\\site-packages (from soundfile) (1.14.6)\n",
      "Requirement already satisfied: pycparser in c:\\users\\lakshmi\\anaconda3\\lib\\site-packages (from cffi>=1.0->soundfile) (2.20)\n",
      "Requirement already satisfied: llvmlite<0.41,>=0.40.0dev0 in c:\\users\\lakshmi\\appdata\\roaming\\python\\python39\\site-packages (from numba>=0.51.0->librosa) (0.40.1)\n",
      "Requirement already satisfied: appdirs>=1.3.0 in c:\\users\\lakshmi\\anaconda3\\lib\\site-packages (from pooch<1.7,>=1.0->librosa) (1.4.4)\n",
      "Requirement already satisfied: requests>=2.19.0 in c:\\users\\lakshmi\\appdata\\roaming\\python\\python39\\site-packages (from pooch<1.7,>=1.0->librosa) (2.29.0)\n",
      "Requirement already satisfied: packaging>=20.0 in c:\\users\\lakshmi\\appdata\\roaming\\python\\python39\\site-packages (from pooch<1.7,>=1.0->librosa) (23.1)\n",
      "Requirement already satisfied: certifi>=2017.4.17 in c:\\users\\lakshmi\\appdata\\roaming\\python\\python39\\site-packages (from requests>=2.19.0->pooch<1.7,>=1.0->librosa) (2022.12.7)\n",
      "Requirement already satisfied: charset-normalizer<4,>=2 in c:\\users\\lakshmi\\appdata\\roaming\\python\\python39\\site-packages (from requests>=2.19.0->pooch<1.7,>=1.0->librosa) (3.1.0)\n",
      "Requirement already satisfied: idna<4,>=2.5 in c:\\users\\lakshmi\\appdata\\roaming\\python\\python39\\site-packages (from requests>=2.19.0->pooch<1.7,>=1.0->librosa) (3.4)\n",
      "Requirement already satisfied: urllib3<1.27,>=1.21.1 in c:\\users\\lakshmi\\appdata\\roaming\\python\\python39\\site-packages (from requests>=2.19.0->pooch<1.7,>=1.0->librosa) (1.26.15)\n",
      "Requirement already satisfied: threadpoolctl>=2.0.0 in c:\\users\\lakshmi\\anaconda3\\lib\\site-packages (from scikit-learn>=0.20.0->librosa) (2.2.0)\n",
      "Note: you may need to restart the kernel to use updated packages.\n"
     ]
    },
    {
     "name": "stderr",
     "output_type": "stream",
     "text": [
      "WARNING: Ignoring invalid distribution -eras (c:\\users\\lakshmi\\appdata\\roaming\\python\\python39\\site-packages)\n",
      "WARNING: Ignoring invalid distribution -ensorflow-intel (c:\\users\\lakshmi\\appdata\\roaming\\python\\python39\\site-packages)\n",
      "WARNING: Ignoring invalid distribution -pencv-python (c:\\users\\lakshmi\\anaconda3\\lib\\site-packages)\n",
      "WARNING: Ignoring invalid distribution -eras (c:\\users\\lakshmi\\appdata\\roaming\\python\\python39\\site-packages)\n",
      "WARNING: Ignoring invalid distribution -ensorflow-intel (c:\\users\\lakshmi\\appdata\\roaming\\python\\python39\\site-packages)\n",
      "WARNING: Ignoring invalid distribution -pencv-python (c:\\users\\lakshmi\\anaconda3\\lib\\site-packages)\n",
      "WARNING: Ignoring invalid distribution -eras (c:\\users\\lakshmi\\appdata\\roaming\\python\\python39\\site-packages)\n",
      "WARNING: Ignoring invalid distribution -ensorflow-intel (c:\\users\\lakshmi\\appdata\\roaming\\python\\python39\\site-packages)\n",
      "WARNING: Ignoring invalid distribution -pencv-python (c:\\users\\lakshmi\\anaconda3\\lib\\site-packages)\n",
      "WARNING: Ignoring invalid distribution -eras (c:\\users\\lakshmi\\appdata\\roaming\\python\\python39\\site-packages)\n",
      "WARNING: Ignoring invalid distribution -ensorflow-intel (c:\\users\\lakshmi\\appdata\\roaming\\python\\python39\\site-packages)\n",
      "WARNING: Ignoring invalid distribution -pencv-python (c:\\users\\lakshmi\\anaconda3\\lib\\site-packages)\n",
      "WARNING: Ignoring invalid distribution -eras (c:\\users\\lakshmi\\appdata\\roaming\\python\\python39\\site-packages)\n",
      "WARNING: Ignoring invalid distribution -ensorflow-intel (c:\\users\\lakshmi\\appdata\\roaming\\python\\python39\\site-packages)\n",
      "WARNING: Ignoring invalid distribution -pencv-python (c:\\users\\lakshmi\\anaconda3\\lib\\site-packages)\n",
      "WARNING: Ignoring invalid distribution -eras (c:\\users\\lakshmi\\appdata\\roaming\\python\\python39\\site-packages)\n",
      "WARNING: Ignoring invalid distribution -ensorflow-intel (c:\\users\\lakshmi\\appdata\\roaming\\python\\python39\\site-packages)\n",
      "WARNING: Ignoring invalid distribution -pencv-python (c:\\users\\lakshmi\\anaconda3\\lib\\site-packages)\n"
     ]
    }
   ],
   "source": [
    "pip install librosa soundfile"
   ]
  },
  {
   "cell_type": "code",
   "execution_count": 4,
   "id": "acb3ebe6-d6cc-4c3c-8a98-50788b1fb8ae",
   "metadata": {},
   "outputs": [
    {
     "name": "stderr",
     "output_type": "stream",
     "text": [
      "C:\\Users\\Lakshmi\\anaconda3\\lib\\site-packages\\numpy\\_distributor_init.py:30: UserWarning: loaded more than 1 DLL from .libs:\n",
      "C:\\Users\\Lakshmi\\anaconda3\\lib\\site-packages\\numpy\\.libs\\libopenblas.GK7GX5KEQ4F6UYO3P26ULGBQYHGQO7J4.gfortran-win_amd64.dll\n",
      "C:\\Users\\Lakshmi\\anaconda3\\lib\\site-packages\\numpy\\.libs\\libopenblas64__v0.3.21-gcc_10_3_0.dll\n",
      "  warnings.warn(\"loaded more than 1 DLL from .libs:\"\n"
     ]
    }
   ],
   "source": [
    "import os\n",
    "\n",
    "import pandas as pd\n",
    "import numpy as np\n",
    "import matplotlib.pylab as plt\n",
    "import seaborn as sns\n",
    "\n",
    "from glob import glob\n",
    "\n",
    "import librosa\n",
    "import librosa.display\n",
    "import IPython.display as ipd\n",
    "\n",
    "import soundfile as sf\n",
    "from scipy import interpolate\n",
    "from tqdm import tqdm\n",
    "\n",
    "import warnings\n",
    "warnings.filterwarnings('ignore')\n",
    "\n",
    "from itertools import cycle\n"
   ]
  },
  {
   "cell_type": "markdown",
   "id": "0c88e1a1-e526-45e6-9d67-e293e2d21ec2",
   "metadata": {},
   "source": [
    "# Model Building"
   ]
  },
  {
   "cell_type": "code",
   "execution_count": 5,
   "id": "5024e2df-55a8-4128-8668-f5b396db7c95",
   "metadata": {},
   "outputs": [
    {
     "name": "stdout",
     "output_type": "stream",
     "text": [
      "Model: \"sequential\"\n",
      "_________________________________________________________________\n",
      " Layer (type)                Output Shape              Param #   \n",
      "=================================================================\n",
      " conv1d (Conv1D)             (None, 13228, 16)         64        \n",
      "                                                                 \n",
      " max_pooling1d (MaxPooling1  (None, 6614, 16)          0         \n",
      " D)                                                              \n",
      "                                                                 \n",
      " conv1d_1 (Conv1D)           (None, 6612, 32)          1568      \n",
      "                                                                 \n",
      " max_pooling1d_1 (MaxPoolin  (None, 3306, 32)          0         \n",
      " g1D)                                                            \n",
      "                                                                 \n",
      " conv1d_2 (Conv1D)           (None, 3304, 64)          6208      \n",
      "                                                                 \n",
      " max_pooling1d_2 (MaxPoolin  (None, 1652, 64)          0         \n",
      " g1D)                                                            \n",
      "                                                                 \n",
      " flatten (Flatten)           (None, 105728)            0         \n",
      "                                                                 \n",
      " dense (Dense)               (None, 128)               13533312  \n",
      "                                                                 \n",
      " dropout (Dropout)           (None, 128)               0         \n",
      "                                                                 \n",
      " dense_1 (Dense)             (None, 64)                8256      \n",
      "                                                                 \n",
      " dense_2 (Dense)             (None, 7)                 455       \n",
      "                                                                 \n",
      "=================================================================\n",
      "Total params: 13549863 (51.69 MB)\n",
      "Trainable params: 13549863 (51.69 MB)\n",
      "Non-trainable params: 0 (0.00 Byte)\n",
      "_________________________________________________________________\n",
      "Epoch 1/15\n",
      "43/43 [==============================] - 29s 614ms/step - loss: 1.9039 - accuracy: 0.2189\n",
      "Epoch 2/15\n",
      "43/43 [==============================] - 30s 693ms/step - loss: 1.8024 - accuracy: 0.2818\n",
      "Epoch 3/15\n",
      "43/43 [==============================] - 28s 648ms/step - loss: 1.7061 - accuracy: 0.3389\n",
      "Epoch 4/15\n",
      "43/43 [==============================] - 37s 874ms/step - loss: 1.4830 - accuracy: 0.4444\n",
      "Epoch 5/15\n",
      "43/43 [==============================] - 32s 748ms/step - loss: 1.1986 - accuracy: 0.5717\n",
      "Epoch 6/15\n",
      "43/43 [==============================] - 31s 730ms/step - loss: 0.9514 - accuracy: 0.6633\n",
      "Epoch 7/15\n",
      "43/43 [==============================] - 29s 674ms/step - loss: 0.7564 - accuracy: 0.7313\n",
      "Epoch 8/15\n",
      "43/43 [==============================] - 26s 604ms/step - loss: 0.6041 - accuracy: 0.7818\n",
      "Epoch 9/15\n",
      "43/43 [==============================] - 26s 600ms/step - loss: 0.5691 - accuracy: 0.7921\n",
      "Epoch 10/15\n",
      "43/43 [==============================] - 27s 621ms/step - loss: 0.4744 - accuracy: 0.8338\n",
      "Epoch 11/15\n",
      "43/43 [==============================] - 26s 611ms/step - loss: 0.4727 - accuracy: 0.8331\n",
      "Epoch 12/15\n",
      "43/43 [==============================] - 26s 609ms/step - loss: 0.4110 - accuracy: 0.8572\n",
      "Epoch 13/15\n",
      "43/43 [==============================] - 26s 605ms/step - loss: 0.3732 - accuracy: 0.8741\n",
      "Epoch 14/15\n",
      "43/43 [==============================] - 27s 628ms/step - loss: 0.3560 - accuracy: 0.8792\n",
      "Epoch 15/15\n",
      "43/43 [==============================] - 27s 617ms/step - loss: 0.3469 - accuracy: 0.8843\n"
     ]
    }
   ],
   "source": [
    "import os\n",
    "import numpy as np\n",
    "import tensorflow as tf\n",
    "from tensorflow.keras.models import Sequential\n",
    "from tensorflow.keras.layers import Conv1D, MaxPooling1D, Flatten, Dense, Dropout\n",
    "\n",
    "\n",
    "train_dir = 'C:/Users/Lakshmi/Desktop/Main project/spectral_reduced_audio/train'\n",
    "\n",
    "\n",
    "def load_data(data_dir, max_length):\n",
    "    data = []\n",
    "    labels = []\n",
    "    class_names = sorted(os.listdir(data_dir))\n",
    "\n",
    "    for class_idx, class_name in enumerate(class_names):\n",
    "        class_dir = os.path.join(data_dir, class_name)\n",
    "        for audio_file in os.listdir(class_dir):\n",
    "            if audio_file.endswith('.ogg'):\n",
    "                audio_path = os.path.join(class_dir, audio_file)\n",
    "                audio, _ = librosa.load(audio_path, sr=None)\n",
    "                if len(audio) < max_length:\n",
    "                    padding = np.zeros(max_length - len(audio))\n",
    "                    audio = np.concatenate((audio, padding))\n",
    "                else:\n",
    "                    audio = audio[:max_length]\n",
    "                data.append(audio)\n",
    "                labels.append(class_idx)\n",
    "    \n",
    "    return np.array(data), np.array(labels)\n",
    "\n",
    "\n",
    "sampling_rate = 44100 \n",
    "time_in_seconds = 0.3  #Maximum duration in seconds\n",
    "max_length = int(time_in_seconds * sampling_rate)\n",
    "\n",
    "# Loading training data\n",
    "train_data, train_labels = load_data(train_dir, max_length)\n",
    "\n",
    "\n",
    "num_classes = 7\n",
    "\n",
    "\n",
    "train_labels = tf.keras.utils.to_categorical(train_labels, num_classes)\n",
    "\n",
    "# Build the model\n",
    "model = Sequential()\n",
    "model.add(Conv1D(filters=16, kernel_size=3, activation='relu', input_shape=(max_length, 1)))\n",
    "model.add(MaxPooling1D(pool_size=2))\n",
    "\n",
    "model.add(Conv1D(filters=32, kernel_size=3, activation='relu'))\n",
    "model.add(MaxPooling1D(pool_size=2))\n",
    "\n",
    "model.add(Conv1D(filters=64, kernel_size=3, activation='relu'))\n",
    "model.add(MaxPooling1D(pool_size=2))\n",
    "model.add(Flatten())\n",
    "\n",
    "model.add(Dense(128, activation='relu'))\n",
    "\n",
    "model.add(Dropout(0.5))\n",
    "\n",
    "model.add(Dense(64, activation='relu'))\n",
    "\n",
    "model.add(Dense(num_classes, activation='softmax'))\n",
    "\n",
    "model.summary()\n",
    "# Compile the model\n",
    "model.compile(loss='categorical_crossentropy', optimizer='adam', metrics=['accuracy'])\n",
    "\n",
    "# Train the model using only the training data (without validation)\n",
    "history = model.fit(train_data.reshape(-1, max_length, 1), train_labels, epochs=15, batch_size=32, validation_split=0)\n",
    "\n",
    "\n"
   ]
  },
  {
   "cell_type": "code",
   "execution_count": 6,
   "id": "d3a5eb85-e0fd-4051-852d-9e763212decb",
   "metadata": {},
   "outputs": [
    {
     "data": {
      "image/png": "[encoded data removed]",
      "text/plain": [
       "<Figure size 432x288 with 1 Axes>"
      ]
     },
     "metadata": {
      "needs_background": "light"
     },
     "output_type": "display_data"
    },
    {
     "data": {
      "image/png": "[encoded data removed]",
      "text/plain": [
       "<Figure size 432x288 with 1 Axes>"
      ]
     },
     "metadata": {
      "needs_background": "light"
     },
     "output_type": "display_data"
    }
   ],
   "source": [
    "import matplotlib.pyplot as plt\n",
    "\n",
    "# Plot training accuracy\n",
    "plt.plot(history.history['accuracy'])\n",
    "plt.title('Model Training Accuracy')\n",
    "plt.xlabel('Epoch')\n",
    "plt.ylabel('Accuracy')\n",
    "plt.show()\n",
    "\n",
    "# Plot training loss\n",
    "plt.plot(history.history['loss'])\n",
    "plt.title('Model Training Loss')\n",
    "plt.xlabel('Epoch')\n",
    "plt.ylabel('Loss')\n",
    "plt.show()\n"
   ]
  },
  {
   "cell_type": "markdown",
   "id": "1f0096dd-834b-4efa-b08a-e0843340b868",
   "metadata": {},
   "source": [
    "## Evaluating the Model Using test data"
   ]
  },
  {
   "cell_type": "code",
   "execution_count": 7,
   "id": "f8939682-7b7c-4789-9603-668fdf610153",
   "metadata": {},
   "outputs": [
    {
     "name": "stdout",
     "output_type": "stream",
     "text": [
      "29/29 [==============================] - 5s 135ms/step\n",
      "Test Accuracy: 0.41\n",
      "Confusion Matrix:\n",
      "[[ 14   4   6  24  28  11  25]\n",
      " [  4   0  10  31  15   4  14]\n",
      " [ 17   1  23   9  18   4  14]\n",
      " [  6   2   1  30   3   2  18]\n",
      " [ 23   2  11  27 105  29  13]\n",
      " [  7   1   3  19  28  62  14]\n",
      " [ 21   0   8  30  22  10 133]]\n",
      "Classification Report:\n",
      "              precision    recall  f1-score   support\n",
      "\n",
      "           0       0.15      0.12      0.14       112\n",
      "           1       0.00      0.00      0.00        78\n",
      "           2       0.37      0.27      0.31        86\n",
      "           3       0.18      0.48      0.26        62\n",
      "           4       0.48      0.50      0.49       210\n",
      "           5       0.51      0.46      0.48       134\n",
      "           6       0.58      0.59      0.58       224\n",
      "\n",
      "    accuracy                           0.41       906\n",
      "   macro avg       0.32      0.35      0.32       906\n",
      "weighted avg       0.39      0.41      0.39       906\n",
      "\n"
     ]
    }
   ],
   "source": [
    "from sklearn.metrics import accuracy_score, confusion_matrix, classification_report\n",
    "\n",
    "test_dir = 'C:/Users/Lakshmi/Desktop/Main project/spectral_reduced_audio/test'\n",
    "\n",
    "# Load testing data\n",
    "test_data, test_labels = load_data(test_dir, max_length)\n",
    "\n",
    "# Predict using the trained model\n",
    "test_predictions = model.predict(test_data.reshape(-1, max_length, 1))\n",
    "test_predictions_labels = np.argmax(test_predictions, axis=1)\n",
    "\n",
    "# Calculate accuracy\n",
    "test_accuracy = accuracy_score(test_labels, test_predictions_labels)\n",
    "print(f\"Test Accuracy: {test_accuracy:.2f}\")\n",
    "\n",
    "# Confusion Matrix\n",
    "conf_matrix = confusion_matrix(test_labels, test_predictions_labels)\n",
    "print(\"Confusion Matrix:\")\n",
    "print(conf_matrix)\n",
    "\n",
    "# Classification Report\n",
    "class_report = classification_report(test_labels, test_predictions_labels)\n",
    "print(\"Classification Report:\")\n",
    "print(class_report)\n"
   ]
  },
  {
   "cell_type": "code",
   "execution_count": 8,
   "id": "aaae5d7c-f5ba-45cf-9027-f89eba351af6",
   "metadata": {},
   "outputs": [
    {
     "name": "stdout",
     "output_type": "stream",
     "text": [
      "1/1 [==============================] - 0s 90ms/step\n",
      "Predicted day: Friday\n"
     ]
    }
   ],
   "source": [
    "# Load and preprocess the unseen audio file\n",
    "new_audio, _ = librosa.load('spectral_reduced_audio/train/day_5/WhatsApp Audio 2023-07-07 at 3.41.14 PM_stretch_0.80.ogg', sr=None)\n",
    "if len(new_audio) < max_length:\n",
    "    padding = np.zeros(max_length - len(new_audio))\n",
    "    new_audio = np.concatenate((new_audio, padding))\n",
    "else:\n",
    "    new_audio = new_audio[:max_length]\n",
    "\n",
    "# Reshape and normalize the data\n",
    "new_audio = new_audio.reshape(1, max_length, 1)\n",
    "\n",
    "# Make predictions\n",
    "predictions = model.predict(new_audio)\n",
    "predicted_day = np.argmax(predictions)\n",
    "\n",
    "# Convert the predicted class index to the corresponding day\n",
    "days_of_week = ['Monday', 'Tuesday', 'Wednesday', 'Thursday', 'Friday', 'Saturday', 'Sunday']\n",
    "predicted_day_name = days_of_week[predicted_day]\n",
    "\n",
    "print(f'Predicted day: {predicted_day_name}')"
   ]
  },
  {
   "cell_type": "code",
   "execution_count": null,
   "id": "2fb5d40d-a922-4f00-9b8d-d337004191e3",
   "metadata": {},
   "outputs": [],
   "source": []
  },
  {
   "cell_type": "code",
   "execution_count": null,
   "id": "2882df97-0cb8-4a91-887d-d15d6ade3e81",
   "metadata": {},
   "outputs": [],
   "source": []
  },
  {
   "cell_type": "code",
   "execution_count": null,
   "id": "1b4b3303-33aa-4cbd-8001-61311032c47b",
   "metadata": {},
   "outputs": [],
   "source": []
  }
 ],
 "metadata": {
  "kernelspec": {
   "display_name": "Python 3 (ipykernel)",
   "language": "python",
   "name": "python3"
  },
  "language_info": {
   "codemirror_mode": {
    "name": "ipython",
    "version": 3
   },
   "file_extension": ".py",
   "mimetype": "text/x-python",
   "name": "python",
   "nbconvert_exporter": "python",
   "pygments_lexer": "ipython3",
   "version": "3.9.7"
  }
 },
 "nbformat": 4,
 "nbformat_minor": 5
}
