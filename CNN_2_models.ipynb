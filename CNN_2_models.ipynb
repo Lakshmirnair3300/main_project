{
 "cells": [
  {
   "cell_type": "code",
   "execution_count": 2,
   "id": "88d752c0-ae78-43bf-86f0-8266c7722594",
   "metadata": {},
   "outputs": [
    {
     "name": "stdout",
     "output_type": "stream",
     "text": [
      "Requirement already satisfied: tensorflow in c:\\users\\lakshmi\\anaconda3\\lib\\site-packages (2.12.0)\n",
      "Collecting tensorflow\n",
      "  Using cached tensorflow-2.13.0-cp39-cp39-win_amd64.whl (1.9 kB)\n",
      "Note: you may need to restart the kernel to use updated packages.\n"
     ]
    },
    {
     "name": "stderr",
     "output_type": "stream",
     "text": [
      "WARNING: Ignoring invalid distribution -eras (c:\\users\\lakshmi\\appdata\\roaming\\python\\python39\\site-packages)\n",
      "WARNING: Ignoring invalid distribution -ensorflow-intel (c:\\users\\lakshmi\\appdata\\roaming\\python\\python39\\site-packages)\n",
      "WARNING: Ignoring invalid distribution -pencv-python (c:\\users\\lakshmi\\anaconda3\\lib\\site-packages)\n",
      "WARNING: Ignoring invalid distribution -eras (c:\\users\\lakshmi\\appdata\\roaming\\python\\python39\\site-packages)\n",
      "WARNING: Ignoring invalid distribution -ensorflow-intel (c:\\users\\lakshmi\\appdata\\roaming\\python\\python39\\site-packages)\n",
      "WARNING: Ignoring invalid distribution -pencv-python (c:\\users\\lakshmi\\anaconda3\\lib\\site-packages)\n",
      "ERROR: Could not find a version that satisfies the requirement import (from versions: none)\n",
      "ERROR: No matching distribution found for import\n",
      "WARNING: Ignoring invalid distribution -eras (c:\\users\\lakshmi\\appdata\\roaming\\python\\python39\\site-packages)\n",
      "WARNING: Ignoring invalid distribution -ensorflow-intel (c:\\users\\lakshmi\\appdata\\roaming\\python\\python39\\site-packages)\n",
      "WARNING: Ignoring invalid distribution -pencv-python (c:\\users\\lakshmi\\anaconda3\\lib\\site-packages)\n",
      "WARNING: Ignoring invalid distribution -eras (c:\\users\\lakshmi\\appdata\\roaming\\python\\python39\\site-packages)\n",
      "WARNING: Ignoring invalid distribution -ensorflow-intel (c:\\users\\lakshmi\\appdata\\roaming\\python\\python39\\site-packages)\n",
      "WARNING: Ignoring invalid distribution -pencv-python (c:\\users\\lakshmi\\anaconda3\\lib\\site-packages)\n",
      "WARNING: Ignoring invalid distribution -eras (c:\\users\\lakshmi\\appdata\\roaming\\python\\python39\\site-packages)\n",
      "WARNING: Ignoring invalid distribution -ensorflow-intel (c:\\users\\lakshmi\\appdata\\roaming\\python\\python39\\site-packages)\n",
      "WARNING: Ignoring invalid distribution -pencv-python (c:\\users\\lakshmi\\anaconda3\\lib\\site-packages)\n"
     ]
    }
   ],
   "source": [
    "pip install --upgrade tensorflow import os"
   ]
  },
  {
   "cell_type": "code",
   "execution_count": 3,
   "id": "d98c3119-54a4-4506-94b9-b4a1b8f2e69b",
   "metadata": {},
   "outputs": [
    {
     "name": "stdout",
     "output_type": "stream",
     "text": [
      "Requirement already satisfied: tqdm in c:\\users\\lakshmi\\anaconda3\\lib\\site-packages (4.62.3)\n",
      "Requirement already satisfied: colorama in c:\\users\\lakshmi\\appdata\\roaming\\python\\python39\\site-packages (from tqdm) (0.4.4)\n",
      "Note: you may need to restart the kernel to use updated packages.\n"
     ]
    },
    {
     "name": "stderr",
     "output_type": "stream",
     "text": [
      "WARNING: Ignoring invalid distribution -eras (c:\\users\\lakshmi\\appdata\\roaming\\python\\python39\\site-packages)\n",
      "WARNING: Ignoring invalid distribution -ensorflow-intel (c:\\users\\lakshmi\\appdata\\roaming\\python\\python39\\site-packages)\n",
      "WARNING: Ignoring invalid distribution -pencv-python (c:\\users\\lakshmi\\anaconda3\\lib\\site-packages)\n",
      "WARNING: Ignoring invalid distribution -eras (c:\\users\\lakshmi\\appdata\\roaming\\python\\python39\\site-packages)\n",
      "WARNING: Ignoring invalid distribution -ensorflow-intel (c:\\users\\lakshmi\\appdata\\roaming\\python\\python39\\site-packages)\n",
      "WARNING: Ignoring invalid distribution -pencv-python (c:\\users\\lakshmi\\anaconda3\\lib\\site-packages)\n",
      "WARNING: Ignoring invalid distribution -eras (c:\\users\\lakshmi\\appdata\\roaming\\python\\python39\\site-packages)\n",
      "WARNING: Ignoring invalid distribution -ensorflow-intel (c:\\users\\lakshmi\\appdata\\roaming\\python\\python39\\site-packages)\n",
      "WARNING: Ignoring invalid distribution -pencv-python (c:\\users\\lakshmi\\anaconda3\\lib\\site-packages)\n",
      "WARNING: Ignoring invalid distribution -eras (c:\\users\\lakshmi\\appdata\\roaming\\python\\python39\\site-packages)\n",
      "WARNING: Ignoring invalid distribution -ensorflow-intel (c:\\users\\lakshmi\\appdata\\roaming\\python\\python39\\site-packages)\n",
      "WARNING: Ignoring invalid distribution -pencv-python (c:\\users\\lakshmi\\anaconda3\\lib\\site-packages)\n",
      "WARNING: Ignoring invalid distribution -eras (c:\\users\\lakshmi\\appdata\\roaming\\python\\python39\\site-packages)\n",
      "WARNING: Ignoring invalid distribution -ensorflow-intel (c:\\users\\lakshmi\\appdata\\roaming\\python\\python39\\site-packages)\n",
      "WARNING: Ignoring invalid distribution -pencv-python (c:\\users\\lakshmi\\anaconda3\\lib\\site-packages)\n",
      "WARNING: Ignoring invalid distribution -eras (c:\\users\\lakshmi\\appdata\\roaming\\python\\python39\\site-packages)\n",
      "WARNING: Ignoring invalid distribution -ensorflow-intel (c:\\users\\lakshmi\\appdata\\roaming\\python\\python39\\site-packages)\n",
      "WARNING: Ignoring invalid distribution -pencv-python (c:\\users\\lakshmi\\anaconda3\\lib\\site-packages)\n"
     ]
    }
   ],
   "source": [
    "pip install tqdm"
   ]
  },
  {
   "cell_type": "code",
   "execution_count": 4,
   "id": "0fb25eb7-5a2a-455e-8b4c-bc1fa0962c84",
   "metadata": {},
   "outputs": [
    {
     "name": "stdout",
     "output_type": "stream",
     "text": [
      "Requirement already satisfied: librosa in c:\\users\\lakshmi\\anaconda3\\lib\\site-packages (0.10.0.post2)\n",
      "Requirement already satisfied: soundfile in c:\\users\\lakshmi\\anaconda3\\lib\\site-packages (0.12.1)\n",
      "Requirement already satisfied: audioread>=2.1.9 in c:\\users\\lakshmi\\anaconda3\\lib\\site-packages (from librosa) (3.0.0)\n",
      "Requirement already satisfied: lazy-loader>=0.1 in c:\\users\\lakshmi\\anaconda3\\lib\\site-packages (from librosa) (0.3)\n",
      "Requirement already satisfied: numba>=0.51.0 in c:\\users\\lakshmi\\appdata\\roaming\\python\\python39\\site-packages (from librosa) (0.57.1)\n",
      "Requirement already satisfied: pooch<1.7,>=1.0 in c:\\users\\lakshmi\\anaconda3\\lib\\site-packages (from librosa) (1.6.0)\n",
      "Requirement already satisfied: numpy!=1.22.0,!=1.22.1,!=1.22.2,>=1.20.3 in c:\\users\\lakshmi\\anaconda3\\lib\\site-packages (from librosa) (1.24.3)\n",
      "Requirement already satisfied: msgpack>=1.0 in c:\\users\\lakshmi\\anaconda3\\lib\\site-packages (from librosa) (1.0.2)\n",
      "Requirement already satisfied: soxr>=0.3.2 in c:\\users\\lakshmi\\anaconda3\\lib\\site-packages (from librosa) (0.3.5)\n",
      "Requirement already satisfied: scipy>=1.2.0 in c:\\users\\lakshmi\\appdata\\roaming\\python\\python39\\site-packages (from librosa) (1.10.1)\n",
      "Requirement already satisfied: decorator>=4.3.0 in c:\\users\\lakshmi\\anaconda3\\lib\\site-packages (from librosa) (5.1.0)\n",
      "Requirement already satisfied: scikit-learn>=0.20.0 in c:\\users\\lakshmi\\anaconda3\\lib\\site-packages (from librosa) (0.24.2)\n",
      "Requirement already satisfied: joblib>=0.14 in c:\\users\\lakshmi\\anaconda3\\lib\\site-packages (from librosa) (1.1.0)\n",
      "Requirement already satisfied: typing-extensions>=4.1.1 in c:\\users\\lakshmi\\appdata\\roaming\\python\\python39\\site-packages (from librosa) (4.5.0)\n",
      "Requirement already satisfied: cffi>=1.0 in c:\\users\\lakshmi\\anaconda3\\lib\\site-packages (from soundfile) (1.14.6)\n",
      "Requirement already satisfied: pycparser in c:\\users\\lakshmi\\anaconda3\\lib\\site-packages (from cffi>=1.0->soundfile) (2.20)\n",
      "Requirement already satisfied: llvmlite<0.41,>=0.40.0dev0 in c:\\users\\lakshmi\\appdata\\roaming\\python\\python39\\site-packages (from numba>=0.51.0->librosa) (0.40.1)\n",
      "Requirement already satisfied: requests>=2.19.0 in c:\\users\\lakshmi\\appdata\\roaming\\python\\python39\\site-packages (from pooch<1.7,>=1.0->librosa) (2.29.0)\n",
      "Requirement already satisfied: appdirs>=1.3.0 in c:\\users\\lakshmi\\anaconda3\\lib\\site-packages (from pooch<1.7,>=1.0->librosa) (1.4.4)\n",
      "Requirement already satisfied: packaging>=20.0 in c:\\users\\lakshmi\\appdata\\roaming\\python\\python39\\site-packages (from pooch<1.7,>=1.0->librosa) (23.1)\n",
      "Requirement already satisfied: charset-normalizer<4,>=2 in c:\\users\\lakshmi\\appdata\\roaming\\python\\python39\\site-packages (from requests>=2.19.0->pooch<1.7,>=1.0->librosa) (3.1.0)\n",
      "Requirement already satisfied: certifi>=2017.4.17 in c:\\users\\lakshmi\\appdata\\roaming\\python\\python39\\site-packages (from requests>=2.19.0->pooch<1.7,>=1.0->librosa) (2022.12.7)\n",
      "Requirement already satisfied: idna<4,>=2.5 in c:\\users\\lakshmi\\appdata\\roaming\\python\\python39\\site-packages (from requests>=2.19.0->pooch<1.7,>=1.0->librosa) (3.4)\n",
      "Requirement already satisfied: urllib3<1.27,>=1.21.1 in c:\\users\\lakshmi\\appdata\\roaming\\python\\python39\\site-packages (from requests>=2.19.0->pooch<1.7,>=1.0->librosa) (1.26.15)\n",
      "Requirement already satisfied: threadpoolctl>=2.0.0 in c:\\users\\lakshmi\\anaconda3\\lib\\site-packages (from scikit-learn>=0.20.0->librosa) (2.2.0)\n",
      "Note: you may need to restart the kernel to use updated packages.\n"
     ]
    },
    {
     "name": "stderr",
     "output_type": "stream",
     "text": [
      "WARNING: Ignoring invalid distribution -eras (c:\\users\\lakshmi\\appdata\\roaming\\python\\python39\\site-packages)\n",
      "WARNING: Ignoring invalid distribution -ensorflow-intel (c:\\users\\lakshmi\\appdata\\roaming\\python\\python39\\site-packages)\n",
      "WARNING: Ignoring invalid distribution -pencv-python (c:\\users\\lakshmi\\anaconda3\\lib\\site-packages)\n",
      "WARNING: Ignoring invalid distribution -eras (c:\\users\\lakshmi\\appdata\\roaming\\python\\python39\\site-packages)\n",
      "WARNING: Ignoring invalid distribution -ensorflow-intel (c:\\users\\lakshmi\\appdata\\roaming\\python\\python39\\site-packages)\n",
      "WARNING: Ignoring invalid distribution -pencv-python (c:\\users\\lakshmi\\anaconda3\\lib\\site-packages)\n",
      "WARNING: Ignoring invalid distribution -eras (c:\\users\\lakshmi\\appdata\\roaming\\python\\python39\\site-packages)\n",
      "WARNING: Ignoring invalid distribution -ensorflow-intel (c:\\users\\lakshmi\\appdata\\roaming\\python\\python39\\site-packages)\n",
      "WARNING: Ignoring invalid distribution -pencv-python (c:\\users\\lakshmi\\anaconda3\\lib\\site-packages)\n",
      "WARNING: Ignoring invalid distribution -eras (c:\\users\\lakshmi\\appdata\\roaming\\python\\python39\\site-packages)\n",
      "WARNING: Ignoring invalid distribution -ensorflow-intel (c:\\users\\lakshmi\\appdata\\roaming\\python\\python39\\site-packages)\n",
      "WARNING: Ignoring invalid distribution -pencv-python (c:\\users\\lakshmi\\anaconda3\\lib\\site-packages)\n",
      "WARNING: Ignoring invalid distribution -eras (c:\\users\\lakshmi\\appdata\\roaming\\python\\python39\\site-packages)\n",
      "WARNING: Ignoring invalid distribution -ensorflow-intel (c:\\users\\lakshmi\\appdata\\roaming\\python\\python39\\site-packages)\n",
      "WARNING: Ignoring invalid distribution -pencv-python (c:\\users\\lakshmi\\anaconda3\\lib\\site-packages)\n",
      "WARNING: Ignoring invalid distribution -eras (c:\\users\\lakshmi\\appdata\\roaming\\python\\python39\\site-packages)\n",
      "WARNING: Ignoring invalid distribution -ensorflow-intel (c:\\users\\lakshmi\\appdata\\roaming\\python\\python39\\site-packages)\n",
      "WARNING: Ignoring invalid distribution -pencv-python (c:\\users\\lakshmi\\anaconda3\\lib\\site-packages)\n"
     ]
    }
   ],
   "source": [
    "pip install librosa soundfile"
   ]
  },
  {
   "cell_type": "code",
   "execution_count": 5,
   "id": "acb3ebe6-d6cc-4c3c-8a98-50788b1fb8ae",
   "metadata": {},
   "outputs": [],
   "source": [
    "import os\n",
    "\n",
    "import pandas as pd\n",
    "import numpy as np\n",
    "import matplotlib.pylab as plt\n",
    "import seaborn as sns\n",
    "\n",
    "from glob import glob\n",
    "\n",
    "import librosa\n",
    "import librosa.display\n",
    "import IPython.display as ipd\n",
    "\n",
    "import soundfile as sf\n",
    "from scipy import interpolate\n",
    "from tqdm import tqdm\n",
    "\n",
    "import warnings\n",
    "warnings.filterwarnings('ignore')\n",
    "\n",
    "from itertools import cycle\n"
   ]
  },
  {
   "cell_type": "markdown",
   "id": "0c88e1a1-e526-45e6-9d67-e293e2d21ec2",
   "metadata": {},
   "source": [
    "# Model Building"
   ]
  },
  {
   "cell_type": "code",
   "execution_count": 6,
   "id": "5024e2df-55a8-4128-8668-f5b396db7c95",
   "metadata": {},
   "outputs": [
    {
     "name": "stdout",
     "output_type": "stream",
     "text": [
      "Model: \"sequential\"\n",
      "_________________________________________________________________\n",
      " Layer (type)                Output Shape              Param #   \n",
      "=================================================================\n",
      " conv1d (Conv1D)             (None, 13228, 16)         64        \n",
      "                                                                 \n",
      " max_pooling1d (MaxPooling1  (None, 6614, 16)          0         \n",
      " D)                                                              \n",
      "                                                                 \n",
      " conv1d_1 (Conv1D)           (None, 6612, 32)          1568      \n",
      "                                                                 \n",
      " max_pooling1d_1 (MaxPoolin  (None, 3306, 32)          0         \n",
      " g1D)                                                            \n",
      "                                                                 \n",
      " conv1d_2 (Conv1D)           (None, 3304, 64)          6208      \n",
      "                                                                 \n",
      " max_pooling1d_2 (MaxPoolin  (None, 1652, 64)          0         \n",
      " g1D)                                                            \n",
      "                                                                 \n",
      " flatten (Flatten)           (None, 105728)            0         \n",
      "                                                                 \n",
      " dense (Dense)               (None, 128)               13533312  \n",
      "                                                                 \n",
      " dropout (Dropout)           (None, 128)               0         \n",
      "                                                                 \n",
      " dense_1 (Dense)             (None, 64)                8256      \n",
      "                                                                 \n",
      " dense_2 (Dense)             (None, 7)                 455       \n",
      "                                                                 \n",
      "=================================================================\n",
      "Total params: 13549863 (51.69 MB)\n",
      "Trainable params: 13549863 (51.69 MB)\n",
      "Non-trainable params: 0 (0.00 Byte)\n",
      "_________________________________________________________________\n",
      "Epoch 1/15\n",
      "43/43 [==============================] - 29s 620ms/step - loss: 1.9127 - accuracy: 0.2138\n",
      "Epoch 2/15\n",
      "43/43 [==============================] - 25s 574ms/step - loss: 1.8557 - accuracy: 0.2474\n",
      "Epoch 3/15\n",
      "43/43 [==============================] - 25s 572ms/step - loss: 1.7981 - accuracy: 0.2548\n",
      "Epoch 4/15\n",
      "43/43 [==============================] - 25s 574ms/step - loss: 1.7103 - accuracy: 0.3089\n",
      "Epoch 5/15\n",
      "43/43 [==============================] - 25s 577ms/step - loss: 1.5707 - accuracy: 0.3821\n",
      "Epoch 6/15\n",
      "43/43 [==============================] - 25s 577ms/step - loss: 1.4005 - accuracy: 0.4678\n",
      "Epoch 7/15\n",
      "43/43 [==============================] - 25s 585ms/step - loss: 1.1747 - accuracy: 0.5644\n",
      "Epoch 8/15\n",
      "43/43 [==============================] - 26s 601ms/step - loss: 1.0372 - accuracy: 0.6245\n",
      "Epoch 9/15\n",
      "43/43 [==============================] - 26s 605ms/step - loss: 0.8472 - accuracy: 0.6918\n",
      "Epoch 10/15\n",
      "43/43 [==============================] - 26s 601ms/step - loss: 0.7476 - accuracy: 0.7445\n",
      "Epoch 11/15\n",
      "43/43 [==============================] - 25s 587ms/step - loss: 0.6785 - accuracy: 0.7650\n",
      "Epoch 12/15\n",
      "43/43 [==============================] - 28s 645ms/step - loss: 0.5937 - accuracy: 0.7928\n",
      "Epoch 13/15\n",
      "43/43 [==============================] - 27s 638ms/step - loss: 0.5167 - accuracy: 0.8170\n",
      "Epoch 14/15\n",
      "43/43 [==============================] - 26s 614ms/step - loss: 0.5216 - accuracy: 0.8265\n",
      "Epoch 15/15\n",
      "43/43 [==============================] - 25s 577ms/step - loss: 0.4287 - accuracy: 0.8594\n"
     ]
    }
   ],
   "source": [
    "import os\n",
    "import numpy as np\n",
    "import tensorflow as tf\n",
    "from tensorflow.keras.models import Sequential\n",
    "from tensorflow.keras.layers import Conv1D, MaxPooling1D, Flatten, Dense, Dropout\n",
    "\n",
    "\n",
    "train_dir = 'C:/Users/Lakshmi/Desktop/Main project/augmented_audio/train'\n",
    "\n",
    "\n",
    "def load_data(data_dir, max_length):\n",
    "    data = []\n",
    "    labels = []\n",
    "    class_names = sorted(os.listdir(data_dir))\n",
    "\n",
    "    for class_idx, class_name in enumerate(class_names):\n",
    "        class_dir = os.path.join(data_dir, class_name)\n",
    "        for audio_file in os.listdir(class_dir):\n",
    "            if audio_file.endswith('.ogg'):\n",
    "                audio_path = os.path.join(class_dir, audio_file)\n",
    "                audio, _ = librosa.load(audio_path, sr=None)\n",
    "                if len(audio) < max_length:\n",
    "                    padding = np.zeros(max_length - len(audio))\n",
    "                    audio = np.concatenate((audio, padding))\n",
    "                else:\n",
    "                    audio = audio[:max_length]\n",
    "                data.append(audio)\n",
    "                labels.append(class_idx)\n",
    "    \n",
    "    return np.array(data), np.array(labels)\n",
    "\n",
    "\n",
    "sampling_rate = 44100 \n",
    "time_in_seconds = 0.3  #Maximum duration in seconds\n",
    "max_length = int(time_in_seconds * sampling_rate)\n",
    "\n",
    "# Loading training data\n",
    "train_data, train_labels = load_data(train_dir, max_length)\n",
    "\n",
    "\n",
    "num_classes = 7\n",
    "\n",
    "\n",
    "train_labels = tf.keras.utils.to_categorical(train_labels, num_classes)\n",
    "\n",
    "# Build the model\n",
    "model = Sequential()\n",
    "model.add(Conv1D(filters=16, kernel_size=3, activation='relu', input_shape=(max_length, 1)))\n",
    "model.add(MaxPooling1D(pool_size=2))\n",
    "\n",
    "model.add(Conv1D(filters=32, kernel_size=3, activation='relu'))\n",
    "model.add(MaxPooling1D(pool_size=2))\n",
    "\n",
    "model.add(Conv1D(filters=64, kernel_size=3, activation='relu'))\n",
    "model.add(MaxPooling1D(pool_size=2))\n",
    "model.add(Flatten())\n",
    "\n",
    "model.add(Dense(128, activation='relu'))\n",
    "\n",
    "model.add(Dropout(0.5))\n",
    "\n",
    "model.add(Dense(64, activation='relu'))\n",
    "\n",
    "model.add(Dense(num_classes, activation='softmax'))\n",
    "\n",
    "model.summary()\n",
    "# Compile the model\n",
    "model.compile(loss='categorical_crossentropy', optimizer='adam', metrics=['accuracy'])\n",
    "\n",
    "# Train the model using only the training data (without validation)\n",
    "history = model.fit(train_data.reshape(-1, max_length, 1), train_labels, epochs=15, batch_size=32, validation_split=0)\n",
    "\n",
    "\n"
   ]
  },
  {
   "cell_type": "code",
   "execution_count": 19,
   "id": "d3a5eb85-e0fd-4051-852d-9e763212decb",
   "metadata": {},
   "outputs": [
    {
     "data": {
      "image/png": "[encoded data removed]",
      "text/plain": [
       "<Figure size 432x288 with 1 Axes>"
      ]
     },
     "metadata": {
      "needs_background": "light"
     },
     "output_type": "display_data"
    },
    {
     "data": {
      "image/png": "[encoded data removed]",
      "text/plain": [
       "<Figure size 432x288 with 1 Axes>"
      ]
     },
     "metadata": {
      "needs_background": "light"
     },
     "output_type": "display_data"
    }
   ],
   "source": [
    "import matplotlib.pyplot as plt\n",
    "\n",
    "# Plot training accuracy\n",
    "plt.plot(history.history['accuracy'])\n",
    "plt.title('Model Training Accuracy (Augmented data)')\n",
    "plt.xlabel('Epoch')\n",
    "plt.ylabel('Accuracy')\n",
    "plt.show()\n",
    "\n",
    "# Plot training loss\n",
    "plt.plot(history.history['loss'])\n",
    "plt.title('Model Training Loss (Augmented data)')\n",
    "plt.xlabel('Epoch')\n",
    "plt.ylabel('Loss')\n",
    "plt.show()\n"
   ]
  },
  {
   "cell_type": "markdown",
   "id": "1f0096dd-834b-4efa-b08a-e0843340b868",
   "metadata": {},
   "source": [
    "## Evaluating the Model Using test data"
   ]
  },
  {
   "cell_type": "code",
   "execution_count": 8,
   "id": "f8939682-7b7c-4789-9603-668fdf610153",
   "metadata": {},
   "outputs": [
    {
     "name": "stdout",
     "output_type": "stream",
     "text": [
      "23/23 [==============================] - 3s 104ms/step\n",
      "Test Accuracy: 0.25\n",
      "Confusion Matrix:\n",
      "[[ 6 12  6 18 31  4 35]\n",
      " [ 2  9  3 24 15  5 20]\n",
      " [ 2  5 23  7 27  3 19]\n",
      " [ 4  4  2 20  7  1 24]\n",
      " [10  2 11 22 35 13 35]\n",
      " [10  2 11 17 32 28 34]\n",
      " [ 3  1  7 24 22  8 57]]\n",
      "Classification Report:\n",
      "              precision    recall  f1-score   support\n",
      "\n",
      "           0       0.16      0.05      0.08       112\n",
      "           1       0.26      0.12      0.16        78\n",
      "           2       0.37      0.27      0.31        86\n",
      "           3       0.15      0.32      0.21        62\n",
      "           4       0.21      0.27      0.24       128\n",
      "           5       0.45      0.21      0.29       134\n",
      "           6       0.25      0.47      0.33       122\n",
      "\n",
      "    accuracy                           0.25       722\n",
      "   macro avg       0.26      0.24      0.23       722\n",
      "weighted avg       0.27      0.25      0.23       722\n",
      "\n"
     ]
    }
   ],
   "source": [
    "from sklearn.metrics import accuracy_score, confusion_matrix, classification_report\n",
    "\n",
    "test_dir = 'C:/Users/Lakshmi/Desktop/Main project/spectral_reduced_audio/test'\n",
    "\n",
    "# Load testing data\n",
    "test_data, test_labels = load_data(test_dir, max_length)\n",
    "\n",
    "# Predict using the trained model\n",
    "test_predictions = model.predict(test_data.reshape(-1, max_length, 1))\n",
    "test_predictions_labels = np.argmax(test_predictions, axis=1)\n",
    "\n",
    "# Calculate accuracy\n",
    "test_accuracy = accuracy_score(test_labels, test_predictions_labels)\n",
    "print(f\"Test Accuracy: {test_accuracy:.2f}\")\n",
    "\n",
    "# Confusion Matrix\n",
    "conf_matrix = confusion_matrix(test_labels, test_predictions_labels)\n",
    "print(\"Confusion Matrix:\")\n",
    "print(conf_matrix)\n",
    "\n",
    "# Classification Report\n",
    "class_report = classification_report(test_labels, test_predictions_labels)\n",
    "print(\"Classification Report:\")\n",
    "print(class_report)\n"
   ]
  },
  {
   "cell_type": "code",
   "execution_count": 15,
   "id": "aaae5d7c-f5ba-45cf-9027-f89eba351af6",
   "metadata": {},
   "outputs": [
    {
     "name": "stdout",
     "output_type": "stream",
     "text": [
      "1/1 [==============================] - 0s 44ms/step\n",
      "Predicted day: Monday\n"
     ]
    }
   ],
   "source": [
    "# Load and preprocess the unseen audio file\n",
    "new_audio, _ = librosa.load('audio_dataset/train/day_2/WhatsApp Audio 2023-07-06 at 7.35.47 PM.ogg', sr=None)\n",
    "if len(new_audio) < max_length:\n",
    "    padding = np.zeros(max_length - len(new_audio))\n",
    "    new_audio = np.concatenate((new_audio, padding))\n",
    "else:\n",
    "    new_audio = new_audio[:max_length]\n",
    "\n",
    "# Reshape and normalize the data\n",
    "new_audio = new_audio.reshape(1, max_length, 1)\n",
    "\n",
    "# Make predictions\n",
    "predictions = model.predict(new_audio)\n",
    "predicted_day = np.argmax(predictions)\n",
    "\n",
    "# Convert the predicted class index to the corresponding day\n",
    "days_of_week = ['Monday', 'Tuesday', 'Wednesday', 'Thursday', 'Friday', 'Saturday', 'Sunday']\n",
    "predicted_day_name = days_of_week[predicted_day]\n",
    "\n",
    "print(f'Predicted day: {predicted_day_name}')"
   ]
  },
  {
   "cell_type": "code",
   "execution_count": null,
   "id": "2fb5d40d-a922-4f00-9b8d-d337004191e3",
   "metadata": {},
   "outputs": [],
   "source": []
  },
  {
   "cell_type": "markdown",
   "id": "c1b3446d-13fd-4533-8aff-fb0c47890aec",
   "metadata": {},
   "source": [
    "##  training with normalised data"
   ]
  },
  {
   "cell_type": "code",
   "execution_count": 11,
   "id": "1b4b3303-33aa-4cbd-8001-61311032c47b",
   "metadata": {},
   "outputs": [
    {
     "name": "stdout",
     "output_type": "stream",
     "text": [
      "Model: \"sequential_1\"\n",
      "_________________________________________________________________\n",
      " Layer (type)                Output Shape              Param #   \n",
      "=================================================================\n",
      " conv1d_3 (Conv1D)           (None, 13228, 16)         64        \n",
      "                                                                 \n",
      " max_pooling1d_3 (MaxPoolin  (None, 6614, 16)          0         \n",
      " g1D)                                                            \n",
      "                                                                 \n",
      " conv1d_4 (Conv1D)           (None, 6612, 32)          1568      \n",
      "                                                                 \n",
      " max_pooling1d_4 (MaxPoolin  (None, 3306, 32)          0         \n",
      " g1D)                                                            \n",
      "                                                                 \n",
      " conv1d_5 (Conv1D)           (None, 3304, 64)          6208      \n",
      "                                                                 \n",
      " max_pooling1d_5 (MaxPoolin  (None, 1652, 64)          0         \n",
      " g1D)                                                            \n",
      "                                                                 \n",
      " flatten_1 (Flatten)         (None, 105728)            0         \n",
      "                                                                 \n",
      " dense_3 (Dense)             (None, 128)               13533312  \n",
      "                                                                 \n",
      " dropout_1 (Dropout)         (None, 128)               0         \n",
      "                                                                 \n",
      " dense_4 (Dense)             (None, 64)                8256      \n",
      "                                                                 \n",
      " dense_5 (Dense)             (None, 7)                 455       \n",
      "                                                                 \n",
      "=================================================================\n",
      "Total params: 13549863 (51.69 MB)\n",
      "Trainable params: 13549863 (51.69 MB)\n",
      "Non-trainable params: 0 (0.00 Byte)\n",
      "_________________________________________________________________\n",
      "Epoch 1/15\n",
      "43/43 [==============================] - 29s 611ms/step - loss: 1.9156 - accuracy: 0.2130\n",
      "Epoch 2/15\n",
      "43/43 [==============================] - 27s 629ms/step - loss: 1.8328 - accuracy: 0.2577\n",
      "Epoch 3/15\n",
      "43/43 [==============================] - 27s 625ms/step - loss: 1.7323 - accuracy: 0.3111\n",
      "Epoch 4/15\n",
      "43/43 [==============================] - 27s 625ms/step - loss: 1.5463 - accuracy: 0.3960\n",
      "Epoch 5/15\n",
      "43/43 [==============================] - 28s 647ms/step - loss: 1.2512 - accuracy: 0.5359\n",
      "Epoch 6/15\n",
      "43/43 [==============================] - 27s 628ms/step - loss: 1.0229 - accuracy: 0.6296\n",
      "Epoch 7/15\n",
      "43/43 [==============================] - 26s 590ms/step - loss: 0.7552 - accuracy: 0.7167\n",
      "Epoch 8/15\n",
      "43/43 [==============================] - 24s 559ms/step - loss: 0.6500 - accuracy: 0.7723\n",
      "Epoch 9/15\n",
      "43/43 [==============================] - 25s 570ms/step - loss: 0.6041 - accuracy: 0.7884\n",
      "Epoch 10/15\n",
      "43/43 [==============================] - 24s 567ms/step - loss: 0.5096 - accuracy: 0.8141\n",
      "Epoch 11/15\n",
      "43/43 [==============================] - 25s 576ms/step - loss: 0.4473 - accuracy: 0.8346\n",
      "Epoch 12/15\n",
      "43/43 [==============================] - 24s 567ms/step - loss: 0.4276 - accuracy: 0.8463\n",
      "Epoch 13/15\n",
      "43/43 [==============================] - 25s 582ms/step - loss: 0.4166 - accuracy: 0.8536\n",
      "Epoch 14/15\n",
      "43/43 [==============================] - 24s 566ms/step - loss: 0.3816 - accuracy: 0.8646\n",
      "Epoch 15/15\n",
      "43/43 [==============================] - 24s 566ms/step - loss: 0.3519 - accuracy: 0.8763\n"
     ]
    }
   ],
   "source": [
    "import os\n",
    "import numpy as np\n",
    "import tensorflow as tf\n",
    "from tensorflow.keras.models import Sequential\n",
    "from tensorflow.keras.layers import Conv1D, MaxPooling1D, Flatten, Dense, Dropout\n",
    "\n",
    "\n",
    "train_dir = 'C:/Users/Lakshmi/Desktop/Main project/normalized_augmented_audio/train'\n",
    "\n",
    "\n",
    "def load_data(data_dir, max_length):\n",
    "    data = []\n",
    "    labels = []\n",
    "    class_names = sorted(os.listdir(data_dir))\n",
    "\n",
    "    for class_idx, class_name in enumerate(class_names):\n",
    "        class_dir = os.path.join(data_dir, class_name)\n",
    "        for audio_file in os.listdir(class_dir):\n",
    "            if audio_file.endswith('.ogg'):\n",
    "                audio_path = os.path.join(class_dir, audio_file)\n",
    "                audio, _ = librosa.load(audio_path, sr=None)\n",
    "                if len(audio) < max_length:\n",
    "                    padding = np.zeros(max_length - len(audio))\n",
    "                    audio = np.concatenate((audio, padding))\n",
    "                else:\n",
    "                    audio = audio[:max_length]\n",
    "                data.append(audio)\n",
    "                labels.append(class_idx)\n",
    "    \n",
    "    return np.array(data), np.array(labels)\n",
    "\n",
    "\n",
    "sampling_rate = 44100 \n",
    "time_in_seconds = 0.3  #Maximum duration in seconds\n",
    "max_length = int(time_in_seconds * sampling_rate)\n",
    "\n",
    "# Loading training data\n",
    "train_data, train_labels = load_data(train_dir, max_length)\n",
    "\n",
    "\n",
    "num_classes = 7\n",
    "\n",
    "\n",
    "train_labels = tf.keras.utils.to_categorical(train_labels, num_classes)\n",
    "\n",
    "# Build the model\n",
    "model = Sequential()\n",
    "model.add(Conv1D(filters=16, kernel_size=3, activation='relu', input_shape=(max_length, 1)))\n",
    "model.add(MaxPooling1D(pool_size=2))\n",
    "\n",
    "model.add(Conv1D(filters=32, kernel_size=3, activation='relu'))\n",
    "model.add(MaxPooling1D(pool_size=2))\n",
    "\n",
    "model.add(Conv1D(filters=64, kernel_size=3, activation='relu'))\n",
    "model.add(MaxPooling1D(pool_size=2))\n",
    "model.add(Flatten())\n",
    "\n",
    "model.add(Dense(128, activation='relu'))\n",
    "\n",
    "model.add(Dropout(0.5))\n",
    "\n",
    "model.add(Dense(64, activation='relu'))\n",
    "\n",
    "model.add(Dense(num_classes, activation='softmax'))\n",
    "\n",
    "model.summary()\n",
    "# Compile the model\n",
    "model.compile(loss='categorical_crossentropy', optimizer='adam', metrics=['accuracy'])\n",
    "\n",
    "# Train the model using only the training data (without validation)\n",
    "history = model.fit(train_data.reshape(-1, max_length, 1), train_labels, epochs=15, batch_size=32, validation_split=0)\n",
    "\n"
   ]
  },
  {
   "cell_type": "code",
   "execution_count": 20,
   "id": "3aa38aee-9d40-4a40-a9e6-f68cf0234bca",
   "metadata": {},
   "outputs": [
    {
     "data": {
      "image/png": "[encoded data removed]",
      "text/plain": [
       "<Figure size 432x288 with 1 Axes>"
      ]
     },
     "metadata": {
      "needs_background": "light"
     },
     "output_type": "display_data"
    },
    {
     "data": {
      "image/png": "[encoded data removed]",
      "text/plain": [
       "<Figure size 432x288 with 1 Axes>"
      ]
     },
     "metadata": {
      "needs_background": "light"
     },
     "output_type": "display_data"
    }
   ],
   "source": [
    "import matplotlib.pyplot as plt\n",
    "\n",
    "# Plot training accuracy\n",
    "plt.plot(history.history['accuracy'])\n",
    "plt.title('Model Training Accuracy (Normalised augmented data)')\n",
    "plt.xlabel('Epoch')\n",
    "plt.ylabel('Accuracy')\n",
    "plt.show()\n",
    "\n",
    "# Plot training loss\n",
    "plt.plot(history.history['loss'])\n",
    "plt.title('Model Training Loss (Normalised augmented data)')\n",
    "plt.xlabel('Epoch')\n",
    "plt.ylabel('Loss')\n",
    "plt.show()\n"
   ]
  },
  {
   "cell_type": "code",
   "execution_count": 13,
   "id": "070c8fae-7b95-4286-a534-019d0dd9aab1",
   "metadata": {},
   "outputs": [
    {
     "name": "stdout",
     "output_type": "stream",
     "text": [
      "23/23 [==============================] - 2s 96ms/step\n",
      "Test Accuracy: 0.31\n",
      "Confusion Matrix:\n",
      "[[24  8  9 34 15 11 11]\n",
      " [ 8  6  5 35  6  9  9]\n",
      " [24  6 23 13  9  4  7]\n",
      " [15  4  1 34  0  3  5]\n",
      " [25  4 11 28 26 24 10]\n",
      " [16  3  2 17 10 78  8]\n",
      " [31  7  4 33  8  6 33]]\n",
      "Classification Report:\n",
      "              precision    recall  f1-score   support\n",
      "\n",
      "           0       0.17      0.21      0.19       112\n",
      "           1       0.16      0.08      0.10        78\n",
      "           2       0.42      0.27      0.33        86\n",
      "           3       0.18      0.55      0.27        62\n",
      "           4       0.35      0.20      0.26       128\n",
      "           5       0.58      0.58      0.58       134\n",
      "           6       0.40      0.27      0.32       122\n",
      "\n",
      "    accuracy                           0.31       722\n",
      "   macro avg       0.32      0.31      0.29       722\n",
      "weighted avg       0.34      0.31      0.31       722\n",
      "\n"
     ]
    }
   ],
   "source": [
    "from sklearn.metrics import accuracy_score, confusion_matrix, classification_report\n",
    "\n",
    "test_dir = 'C:/Users/Lakshmi/Desktop/Main project/spectral_reduced_audio/test'\n",
    "\n",
    "# Load testing data\n",
    "test_data, test_labels = load_data(test_dir, max_length)\n",
    "\n",
    "# Predict using the trained model\n",
    "test_predictions = model.predict(test_data.reshape(-1, max_length, 1))\n",
    "test_predictions_labels = np.argmax(test_predictions, axis=1)\n",
    "\n",
    "# Calculate accuracy\n",
    "test_accuracy = accuracy_score(test_labels, test_predictions_labels)\n",
    "print(f\"Test Accuracy: {test_accuracy:.2f}\")\n",
    "\n",
    "# Confusion Matrix\n",
    "conf_matrix = confusion_matrix(test_labels, test_predictions_labels)\n",
    "print(\"Confusion Matrix:\")\n",
    "print(conf_matrix)\n",
    "\n",
    "# Classification Report\n",
    "class_report = classification_report(test_labels, test_predictions_labels)\n",
    "print(\"Classification Report:\")\n",
    "print(class_report)"
   ]
  },
  {
   "cell_type": "code",
   "execution_count": 18,
   "id": "c5fe85ce-a11c-4ef4-a231-10813afeced9",
   "metadata": {},
   "outputs": [
    {
     "name": "stdout",
     "output_type": "stream",
     "text": [
      "1/1 [==============================] - 0s 41ms/step\n",
      "Predicted day: Saturday\n"
     ]
    }
   ],
   "source": [
    "# Load and preprocess the unseen audio file\n",
    "new_audio, _ = librosa.load('audio_dataset/train/day_6/WhatsApp Audio 2023-07-12 at 4.07.29 PM.ogg', sr=None)\n",
    "if len(new_audio) < max_length:\n",
    "    padding = np.zeros(max_length - len(new_audio))\n",
    "    new_audio = np.concatenate((new_audio, padding))\n",
    "else:\n",
    "    new_audio = new_audio[:max_length]\n",
    "\n",
    "# Reshape and normalize the data\n",
    "new_audio = new_audio.reshape(1, max_length, 1)\n",
    "\n",
    "# Make predictions\n",
    "predictions = model.predict(new_audio)\n",
    "predicted_day = np.argmax(predictions)\n",
    "\n",
    "# Convert the predicted class index to the corresponding day\n",
    "days_of_week = ['Monday', 'Tuesday', 'Wednesday', 'Thursday', 'Friday', 'Saturday', 'Sunday']\n",
    "predicted_day_name = days_of_week[predicted_day]\n",
    "\n",
    "print(f'Predicted day: {predicted_day_name}')"
   ]
  },
  {
   "cell_type": "code",
   "execution_count": null,
   "id": "051cb968-2a60-4802-a64b-e2cd9ea8b560",
   "metadata": {},
   "outputs": [],
   "source": []
  },
  {
   "cell_type": "code",
   "execution_count": null,
   "id": "b5302911-7bb5-4ec4-b450-3a028a894c87",
   "metadata": {},
   "outputs": [],
   "source": []
  }
 ],
 "metadata": {
  "kernelspec": {
   "display_name": "Python 3 (ipykernel)",
   "language": "python",
   "name": "python3"
  },
  "language_info": {
   "codemirror_mode": {
    "name": "ipython",
    "version": 3
   },
   "file_extension": ".py",
   "mimetype": "text/x-python",
   "name": "python",
   "nbconvert_exporter": "python",
   "pygments_lexer": "ipython3",
   "version": "3.9.7"
  }
 },
 "nbformat": 4,
 "nbformat_minor": 5
}
